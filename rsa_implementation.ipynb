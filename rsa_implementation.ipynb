{
  "cells": [
    {
      "cell_type": "markdown",
      "metadata": {
        "id": "P-gRpF_tXIo0"
      },
      "source": []
    },
    {
      "cell_type": "markdown",
      "metadata": {
        "id": "0SBdnE-pXIo4"
      },
      "source": [
        "## $\\textbf{Task1: RSA Decryption and Message Translation }$"
      ]
    },
    {
      "cell_type": "markdown",
      "metadata": {
        "id": "7Nyc74oWXIo5"
      },
      "source": [
        "This task involves decrypting a message that has been encrypted using the RSA encryption algorithm. In RSA, the message is encrypted with a public key and can only be decrypted using a private key. Our goal is to:\n",
        "\n",
        "1. **Decrypt** the message (which is in the form of numbers).\n",
        "2. **Translate** the decrypted numbers into readable text using a custom character mapping.\n",
        "\n",
        "### RSA Encryption and Decryption Overview\n",
        "\n",
        "In RSA encryption:\n",
        "- The message is converted into a number, let say `M`.\n",
        "- This number is encrypted using the formula:\n",
        "  $$ C \\equiv M^e \\mod n $$\n",
        "  Where:\n",
        "  - `C` is the ciphertext (the encrypted message).\n",
        "  - `M` is the plaintext (the original message).\n",
        "  - `e` is the public exponent.\n",
        "  - `n` is the product of two large prime numbers, `p` and `q`.\n",
        "\n",
        "Decryption is done using the private key:\n",
        "- The private key `d` is calculated such that:\n",
        "  $$ e \\cdot d \\equiv 1 \\mod \\phi(n) $$\n",
        "  Where $`\\phi(n)`$ is Euler’s totient function for `n`, and `d` is the private exponent. The decrypted message is obtained by:\n",
        "  $$ M \\equiv C^d \\mod n $$\n",
        "  Where `C` is the ciphertext and `M` is the original message.\n",
        "\n",
        "### Problem Breakdown\n",
        "\n",
        "- **Input**: We are given the encrypted message `M` (in the form of a list of large numbers), public key values `n` and `e`.\n",
        "- **Output**: The decrypted message is converted back to a string of characters based on a custom character mapping.\n",
        "- **Goal**: Decrypt the message, then map the resulting numbers to letters or spaces as defined by a given mapping.\n",
        "---\n"
      ]
    },
    {
      "cell_type": "code",
      "execution_count": null,
      "metadata": {
        "id": "QU0uCaa4XIo6"
      },
      "outputs": [],
      "source": [
        "from sympy import factorint # For factorize n into p and q\n",
        "from math import gcd\n",
        "\n",
        "# Problem data\n",
        "n = 956331992007843552652604425031376690367\n",
        "e = 12398737\n",
        "M = [427849968240759007228494978639775081809,\n",
        "     498308250136673589542748543030806629941,\n",
        "     925288105342943743271024837479707225255,\n",
        "     95024328800414254907217356783906225740]"
      ]
    },
    {
      "cell_type": "code",
      "execution_count": null,
      "metadata": {
        "id": "_yYL6PUwXIo7",
        "outputId": "0b742bff-527c-4779-b89a-dcbdcb6d3d03"
      },
      "outputs": [
        {
          "name": "stdout",
          "output_type": "stream",
          "text": [
            "p = 7746289204980135457, q = 123456789012345681631\n"
          ]
        }
      ],
      "source": [
        "# Factorizing n to get p and q\n",
        "factors = factorint(n)\n",
        "p, q = list(factors.keys())\n",
        "print(f\"p = {p}, q = {q}\")"
      ]
    },
    {
      "cell_type": "code",
      "execution_count": null,
      "metadata": {
        "id": "kuzagk8AXIo8",
        "outputId": "42057eca-64eb-4207-b7b9-3061fa542646"
      },
      "outputs": [
        {
          "name": "stdout",
          "output_type": "stream",
          "text": [
            "Phi(n) = 956331992007843552521401346814050873280\n"
          ]
        }
      ],
      "source": [
        "# Calculating Euler's totient function phi(n)\n",
        "phi_n = (p - 1) * (q - 1)\n",
        "print(f\"Phi(n) = {phi_n}\")"
      ]
    },
    {
      "cell_type": "code",
      "execution_count": null,
      "metadata": {
        "id": "0H8rwGebXIo8"
      },
      "outputs": [],
      "source": [
        "# Finding d such that e * d ≡ 1 (mod phi(n))\n",
        "def extended_gcd(a, b):\n",
        "    \"\"\"\n",
        "    This function computes the greatest common divisor (GCD) of a and b\n",
        "    using the extended Euclidean algorithm, which also returns the\n",
        "    coefficients for the equation: a * x + b * y = gcd(a, b).\n",
        "    \"\"\"\n",
        "    if b == 0:\n",
        "        return a, 1, 0\n",
        "    g, x1, y1 = extended_gcd(b, a % b)\n",
        "    x = y1\n",
        "    y = x1 - (a // b) * y1\n",
        "    return g, x, y # where g is the gcd"
      ]
    },
    {
      "cell_type": "code",
      "execution_count": null,
      "metadata": {
        "id": "5JoQ3eReXIo9",
        "outputId": "661e1dbc-e7ac-4c0d-c229-596437452d92"
      },
      "outputs": [
        {
          "name": "stdout",
          "output_type": "stream",
          "text": [
            "Private exponent d = 801756262003467870842260800571951669873\n"
          ]
        }
      ],
      "source": [
        "def mod_inverse(e, phi_n):\n",
        "    \"\"\"\n",
        "    This function returns the modular inverse of e modulo phi_n.\n",
        "    That is, it finds d such that (e * d) % phi_n = 1.\n",
        "    \"\"\"\n",
        "    g, x, _ = extended_gcd(e, phi_n)\n",
        "    if g != 1:\n",
        "        raise Exception(\"Modular inverse does not exist\")\n",
        "    return x % phi_n\n",
        "\n",
        "d = mod_inverse(e, phi_n)\n",
        "print(f\"Private exponent d = {d}\")"
      ]
    },
    {
      "cell_type": "code",
      "execution_count": null,
      "metadata": {
        "id": "mDyVmMOTXIo9",
        "outputId": "f5cba51a-8bf7-44dc-9f79-a0fcad5d1d71"
      },
      "outputs": [
        {
          "name": "stdout",
          "output_type": "stream",
          "text": [
            "Decrypted message (as numbers): [30181929001929002335002215303015280030, 25003018150033252822140030181130002415, 32152800332825301500302500231500152319, 223500141913211924292524]\n"
          ]
        }
      ],
      "source": [
        "# Decrypting the message M\n",
        "M_decrypted = [pow(m, d, n) for m in M]\n",
        "print(f\"Decrypted message (as numbers): {M_decrypted}\")"
      ]
    },
    {
      "cell_type": "code",
      "execution_count": null,
      "metadata": {
        "id": "7DPVmHi3XIo-"
      },
      "outputs": [],
      "source": [
        "# Create the mapping (numbers to letters)\n",
        "code_mapping = {\"00\": \" \", **{str(i+11): chr(65+i) for i in range(26)}}\n",
        "\n",
        "# Decode each number\n",
        "msg_list = []\n",
        "for num in M_decrypted:\n",
        "    num_txt = str(num)\n",
        "\n",
        "    if len(num_txt) % 2 != 0:\n",
        "        num_txt = \"0\" + num_txt\n",
        "\n",
        "    msg_list.append([code_mapping.get(num_txt[i:i+2], \"?\") for i in range(0, len(num_txt), 2)])"
      ]
    },
    {
      "cell_type": "code",
      "execution_count": null,
      "metadata": {
        "id": "73FeSGwdXIo-",
        "outputId": "c7c5c40b-4359-43b3-db96-6740c3fa24aa"
      },
      "outputs": [
        {
          "name": "stdout",
          "output_type": "stream",
          "text": [
            "THIS IS MY LETTER T\n",
            "O THE WORLD THAT NE\n",
            "VER WROTE TO ME EMI\n",
            "LY DICKINSON\n"
          ]
        }
      ],
      "source": [
        "# Print the message decoded\n",
        "for msg in msg_list:\n",
        "    print(\"\".join(msg))"
      ]
    },
    {
      "cell_type": "code",
      "execution_count": null,
      "metadata": {
        "id": "JT1S-6dYXIo-",
        "outputId": "4e1fd815-aff9-435f-d5f1-b45f35fe7fb1"
      },
      "outputs": [
        {
          "name": "stdout",
          "output_type": "stream",
          "text": [
            "Full message decoded: THIS IS MY LETTER TO THE WORLD THAT NEVER WROTE TO ME EMILY DICKINSON\n"
          ]
        }
      ],
      "source": [
        "# Print the full message\n",
        "print(\"Full message decoded:\", \"\".join(\"\".join(msg) for msg in msg_list))"
      ]
    },
    {
      "cell_type": "markdown",
      "metadata": {
        "id": "h87ubaI4XIo_"
      },
      "source": []
    },
    {
      "cell_type": "markdown",
      "metadata": {
        "id": "2yCDwkjeXIo_"
      },
      "source": [
        "## $\\textbf{Task2: RSA Cryptosystem with 600-Digit Safe Primes }$"
      ]
    },
    {
      "cell_type": "markdown",
      "metadata": {
        "id": "ndW9tWF1XIo_"
      },
      "source": [
        "In this task, we will implement an RSA cryptosystem using two **safe prime numbers** with 600 digits. A safe prime is a prime number `p` where `(p - 1) / 2` is also a prime.\n",
        "\n",
        "The process involves:\n",
        "1. **Generating two 600-digit safe primes** `p` and `q`. 600 digits is about 1992 bits.\n",
        "2. **Checking the primality of `p` and `q`**\n",
        "3. **Computing the modulus `n`** as the product of `p` and `q`, and **calculating Euler's totient function** `φ(n)` as seen in exo2.\n",
        "4. **Generating the public and private keys** for the RSA system.\n",
        "5. **Encrypting a message** using the public key.\n",
        "6. **Decrypting the message** using the private key.\n",
        "\n",
        "### RSA Key Generation\n",
        "RSA relies on the following steps to generate the public and private keys:\n",
        "- The modulus `n` is the product of two prime numbers `p` and `q`.\n",
        "- The public exponent `e` is usually a small value like 65537.\n",
        "- The private exponent `d` is the modular inverse of `e` modulo Euler’s totient `phi(n)`.\n",
        "\n",
        "### Key Components of RSA\n",
        "\n",
        "1. **Public Key**: `(n, e)`\n",
        "2. **Private Key**: `(n, d)`\n",
        "\n",
        "### Message Encryption and Decryption\n",
        "\n",
        "The RSA encryption and decryption are performed (As seen in Task1) using the formulas:\n",
        "- Encryption: $ C \\equiv M^e mod n $\n",
        "- Decryption: $ M \\equiv C^d mod n $\n",
        "\n",
        "Where `C` is the ciphertext, `M` is the plaintext, `e` is the public exponent, `d` is the private exponent, and `n` is the modulus.\n",
        "\n",
        "**Note**: In this task, the functions will be built using custom tests like `strong_pseudoprimality_test` instead of Python's built-in functions like `isprime`, which may lead to slightly slower execution times.\n",
        "\n",
        "---"
      ]
    },
    {
      "cell_type": "code",
      "execution_count": null,
      "metadata": {
        "id": "UIIq_VRcXIpA",
        "outputId": "dafadf13-7232-4efd-9566-1207d6b83c7e"
      },
      "outputs": [
        {
          "name": "stdout",
          "output_type": "stream",
          "text": [
            "probably prime\n",
            "composite\n",
            "probably prime\n",
            "probably prime\n"
          ]
        }
      ],
      "source": [
        "import random\n",
        "import math\n",
        "\n",
        "def strong_pseudoprimality_test(N, t=10):\n",
        "    \"\"\"\n",
        "    Strong pseudoprimality test for an odd integer N >= 3.\n",
        "    Repeats the test t times independently.\n",
        "\n",
        "    Returns \"composite\" if N is composite, otherwise \"probably prime\".\n",
        "    \"\"\"\n",
        "    if N < 3 or N % 2 == 0:\n",
        "        return \"composite\"\n",
        "\n",
        "    # Write N-1 as 2^e * m, with m odd\n",
        "    e = 0\n",
        "    m = N - 1\n",
        "    while m % 2 == 0:\n",
        "        m //= 2\n",
        "        e += 1\n",
        "\n",
        "    for _ in range(t):\n",
        "        # Choose random x in {2, ..., N-2}\n",
        "        x = random.randint(2, N - 2)\n",
        "\n",
        "        if gcd(x, N) != 1:\n",
        "            return \"composite\"\n",
        "\n",
        "        # Compute y = x^m mod N\n",
        "        y = pow(x, m, N)\n",
        "\n",
        "        if y == 1 or y == N - 1:\n",
        "            continue\n",
        "\n",
        "        # Iterate to check for -1 condition\n",
        "        for _ in range(e - 1):\n",
        "            y = pow(y, 2, N)\n",
        "            if y == N - 1:\n",
        "                break\n",
        "        else:\n",
        "            return \"composite\"\n",
        "\n",
        "    return \"probably prime\"\n",
        "\n",
        "print(strong_pseudoprimality_test(11))\n",
        "print(strong_pseudoprimality_test(561))\n",
        "print(strong_pseudoprimality_test(7))\n",
        "print(strong_pseudoprimality_test(101))"
      ]
    },
    {
      "cell_type": "code",
      "execution_count": null,
      "metadata": {
        "id": "eSGNjWOyXIpB",
        "outputId": "8b587b31-b900-4e51-b202-cc88bbbd3158"
      },
      "outputs": [
        {
          "name": "stdout",
          "output_type": "stream",
          "text": [
            "Generated safe prime p = 2707805907492098808865786847904786463678869184944572920971132832427761021148815872370707740932609855057791009748926260197262551396623348832111521809963\n"
          ]
        }
      ],
      "source": [
        "import sympy\n",
        "\n",
        "# Generate safe prime number function\n",
        "def generate_safe_prime(bit_length):\n",
        "    \"\"\"\n",
        "    Generates a safe prime p, where p = 2q + 1 and q is also prime,\n",
        "    using the strong pseudoprimality test.\n",
        "    \"\"\"\n",
        "    x = 2 ** bit_length\n",
        "    ln2x = sympy.log(x, 2)\n",
        "\n",
        "    # Bounds y0 et y1\n",
        "    y0 = (x - ln2x) / (2 * ln2x)\n",
        "    y1 = 2**(bit_length-1) - 1\n",
        "\n",
        "    while True:\n",
        "\n",
        "        # Research q in [y0, y1]\n",
        "        q = random.randint(int(y0), int(y1))\n",
        "        if strong_pseudoprimality_test(q) == \"probably prime\" and strong_pseudoprimality_test(2 * q + 1) == \"probably prime\":\n",
        "            return 2 * q + 1\n",
        "\n",
        "    # Search for powers of 2\n",
        "    for j in range(bit_length // 4, bit_length // 2):\n",
        "        q1 = random.randint(2**j, 2**(j+1))\n",
        "        q2 = random.randint(int(y0 / q1), int(y1 / q1))\n",
        "\n",
        "        # Check primality of q1, q2, and 2q2 + 1\n",
        "        if strong_pseudoprimality_test(q1) == \"probably prime\" and strong_pseudoprimality_test(q2) == \"probably prime\" and strong_pseudoprimality_test(2 * q2 + 1) == \"probably prime\":\n",
        "            return 2 * q2 + 1\n",
        "\n",
        "# Test\n",
        "bit_length = 500\n",
        "safe_prime = generate_safe_prime(bit_length)\n",
        "print(f\"Generated safe prime p = {safe_prime}\")"
      ]
    },
    {
      "cell_type": "code",
      "execution_count": null,
      "metadata": {
        "id": "zLn00o-jXIpB",
        "outputId": "ca748be6-dd2b-493d-86c8-a1b7103b4207"
      },
      "outputs": [
        {
          "name": "stdout",
          "output_type": "stream",
          "text": [
            "Its a valid safe prime.\n"
          ]
        }
      ],
      "source": [
        "# Check if p is a safe prime number\n",
        "def is_safe_prime(p):\n",
        "    \"\"\"\n",
        "    Verifies if p is a safe prime, i.e., p = 2q + 1 and q is prime.\n",
        "    Returns True if p is a safe prime, False otherwise.\n",
        "    \"\"\"\n",
        "    if p % 2 == 0 or p < 3:\n",
        "        return False\n",
        "\n",
        "    # Check if p = 2q + 1 for some prime q\n",
        "    q = (p - 1) // 2\n",
        "    if 2 * q + 1 != p:\n",
        "        return False\n",
        "\n",
        "    # Check if q is prime\n",
        "    if strong_pseudoprimality_test(q) != \"probably prime\":\n",
        "        return False\n",
        "\n",
        "    return True\n",
        "\n",
        "if is_safe_prime(safe_prime):\n",
        "    print(f\"Its a valid safe prime.\")\n",
        "else:\n",
        "    print(f\"Its is NOT a valid safe prime.\")"
      ]
    },
    {
      "cell_type": "code",
      "execution_count": null,
      "metadata": {
        "id": "lW11zHnaXIpC"
      },
      "outputs": [],
      "source": [
        "# RSA key generation Function\n",
        "def generate_rsa_keys(bit_length):\n",
        "\n",
        "    p = generate_safe_prime(bit_length)\n",
        "    q = generate_safe_prime(bit_length)\n",
        "\n",
        "    while q == p:\n",
        "        q = generate_safe_prime(bit_length)\n",
        "\n",
        "    n = p * q\n",
        "    phi = (p - 1) * (q - 1)\n",
        "    e = 65537\n",
        "\n",
        "    if gcd(e, phi) != 1:\n",
        "        raise Exception(\"e is not coprime with phi(n); regenerate the keys.\")\n",
        "\n",
        "    d = mod_inverse(e, phi)\n",
        "\n",
        "    return (n, e, d, p, q)"
      ]
    },
    {
      "cell_type": "code",
      "execution_count": null,
      "metadata": {
        "id": "ZikqVspZXIpC"
      },
      "outputs": [],
      "source": [
        "# Encryption function using `C = M^e mod n`\n",
        "def encrypt(msg, public_key):\n",
        "    \"\"\"\n",
        "    Encrypt the msg using RSA encryption with the public key (e, n).\n",
        "    \"\"\"\n",
        "    e, n = public_key\n",
        "    msg_int = int(msg)\n",
        "    return pow(msg_int, e, n)"
      ]
    },
    {
      "cell_type": "code",
      "execution_count": null,
      "metadata": {
        "id": "Yg6A8I5KXIpC"
      },
      "outputs": [],
      "source": [
        "# Decryption function: `M = C^d mod n`\n",
        "def decrypt(encrypted_msg, private_key):\n",
        "    \"\"\"\n",
        "    Decrypt the encrypted msg using RSA decryption with the private key (d, n).\n",
        "    \"\"\"\n",
        "    d, n = private_key\n",
        "    return pow(encrypted_msg, d, n)"
      ]
    },
    {
      "cell_type": "markdown",
      "metadata": {
        "id": "2HVjm14uXIpC"
      },
      "source": [
        "**Note to the tutor/examiner for the cell below:**  \n",
        "<span style=\"color:red\">Verify the result first before running the cell below. It takes a long time to run!</span>"
      ]
    },
    {
      "cell_type": "code",
      "execution_count": null,
      "metadata": {
        "id": "V4NQ3diSXIpC",
        "outputId": "9b3d5a07-8645-4006-9e02-b2a401baf42a"
      },
      "outputs": [
        {
          "name": "stdout",
          "output_type": "stream",
          "text": [
            "RSA keys generated:\n",
            "Public key: (65537, 220759290840871014751375903446479257956984477745245099220993973152987230173326860306190674273252034305055156493068087707118339655006008442370304840448499650702421588581962059834807817578468404208637318024362758509704211246527767841098847490567587585919036077587768969810548276784997492698553501284006802551450998063029013979657167292570923909605193103944918010836300788609434382058285925123133490354393450587400308304056802383282909111931311543841656951313852405343672213405798886068020158850101444589707885505412739220471842183141609733854697380349596133143531129317833064746125165864573054606182390139414506993094409356092931362331771376456464939029329678185497937283295433944909911285520010569727926366327008766594648166976643562640127107368887886770543412091510597823518882371765568852716698013086329044685431707153596984134846549855251612669516845449374417482699264107578790443333227486621425377709006148594232172412241621397291120838429968656204828959511024670778517038235286098500782411798901907337702291868750873481207887142625282637719617585478141474301447929524752627080843023607513002815706763113144838572280386130422068499916563241449306628805026387246153539810498022525923794185812783689)\n",
            "Private key: (16748023163416248612903260630420905298718690561810254258308772670654019995144439773599341326069382403294844714947808597888099619523168194691016611482215241211719183643278077444781794543542501269898603006196982396360061313727147438942024653601813410397019201027913809266491387035949273443966126133086375975186754998998737469015295722701109810924470453527230913070144918457758331134989358983661438790943196001046040143548994025507463327654950348596681544195377789025569346247976441728034487843549512222103965801500101307722141680799854793425478056290312220180808349100023894867292282598816809245188806914585839042866951270355082607812708175074742405855367323160268550109273591706412525189191213303253477438450968282142833094333453604812465073041437696065538197594884379125905250921624881582946307080561611744499119451652705271096408251398556347322330217065395439007090643155794864716410844523770448372075054167260815369766070736453298704503005457119989184907064529504729084997570461094353538913303406188234156303233920564805425413078404468909436218943314831179275452978440628232786611097436455873239723868633393118463259136558653337330865075132077968450205603660123886589581788868201922105793862929009, 220759290840871014751375903446479257956984477745245099220993973152987230173326860306190674273252034305055156493068087707118339655006008442370304840448499650702421588581962059834807817578468404208637318024362758509704211246527767841098847490567587585919036077587768969810548276784997492698553501284006802551450998063029013979657167292570923909605193103944918010836300788609434382058285925123133490354393450587400308304056802383282909111931311543841656951313852405343672213405798886068020158850101444589707885505412739220471842183141609733854697380349596133143531129317833064746125165864573054606182390139414506993094409356092931362331771376456464939029329678185497937283295433944909911285520010569727926366327008766594648166976643562640127107368887886770543412091510597823518882371765568852716698013086329044685431707153596984134846549855251612669516845449374417482699264107578790443333227486621425377709006148594232172412241621397291120838429968656204828959511024670778517038235286098500782411798901907337702291868750873481207887142625282637719617585478141474301447929524752627080843023607513002815706763113144838572280386130422068499916563241449306628805026387246153539810498022525923794185812783689)\n"
          ]
        }
      ],
      "source": [
        "# Generate RSA keys\n",
        "bit_length = 1992\n",
        "n, e, d, p, q = generate_rsa_keys(bit_length)\n",
        "\n",
        "# Define public and private keys\n",
        "public_key = (e, n)\n",
        "private_key = (d, n)\n",
        "\n",
        "print(f\"RSA keys generated:\\nPublic key: {public_key}\\nPrivate key: {private_key}\")"
      ]
    },
    {
      "cell_type": "code",
      "execution_count": null,
      "metadata": {
        "id": "rKIR0y8WXIpD",
        "outputId": "f69172ee-df3d-495b-b301-81031a63903a"
      },
      "outputs": [
        {
          "name": "stdout",
          "output_type": "stream",
          "text": [
            "Encrypted msg: 175147977948728752914379206985600817956165261818483143283438806747731324062488384593019030511616764351559713595036344436859716825144633060592433539217321252558420330879059314089319841930136221156963096645805626067014422642714895745080801668966579958838552403901137911957435469350413008684160014882943074494887528235779123440608744848016487273536968335719437875779481258640429137648350139625333512708734636525398243357835481995481630357733009057144512233464667190312550851432437461051628409111654414712728635769929116462939041833785067641312642167164169860372936920939313508028442687846293564268873076273134704332819208035124899202463986758210590795222909373525445162769942698108009631466227704593272859605848501137494282750323242191239432173523380986168229053479749445794953739233304781031765436404748434379389677550325442193615096931075965276670528959301941161543212621756238000372813653827773925565694909461092325364356084833762664227915264980540275158950264807549077803252694357138734489730314588190469593933539594671465677602648660745479094160475857871989161701538603254981578643476974450381380957741840141724796062094696747868222789642835448108854141259124242484360951970089096742053740355575560\n",
            "Decrypted msg: 18152222250019230029112215350011002930311415243000113000111923290028331124141100112414001124001129261928192417001411301100291319152430192930\n"
          ]
        }
      ],
      "source": [
        "# Encoding and encrypting the msg\n",
        "encoded_msg = \"18152222250019230029112215350011002930311415243000113000111923290028331124141100112414001124001129261928192417001411301100291319152430192930\"\n",
        "encrypted_msg = encrypt(encoded_msg, public_key)\n",
        "print(f\"Encrypted msg: {encrypted_msg}\")\n",
        "\n",
        "# Decrypt the msg using the private key\n",
        "decrypted_integer = decrypt(encrypted_msg, private_key)\n",
        "print(f\"Decrypted msg: {decrypted_integer}\")"
      ]
    },
    {
      "cell_type": "code",
      "execution_count": null,
      "metadata": {
        "id": "z_8-62V3XIpD",
        "outputId": "9b4b321d-eccd-4c78-b7d9-245305792079"
      },
      "outputs": [
        {
          "name": "stdout",
          "output_type": "stream",
          "text": [
            "Decoded msg: HELLO IM SALEY A STUDENT AT AIMS RWANDA AND AN ASPIRING DATA SCIENTIST\n"
          ]
        }
      ],
      "source": [
        "# Convert decrypted integer into a string\n",
        "m_str = str(decrypted_integer)\n",
        "\n",
        "if len(m_str) % 2 != 0:\n",
        "    m_str = \"0\" + m_str\n",
        "\n",
        "# Decoding the msg using the mapping (code_mapping in Exo 2)\n",
        "msg_clear = \"\"\n",
        "for i in range(0, len(m_str), 2):\n",
        "    pair = m_str[i:i + 2]\n",
        "    if pair in code_mapping:\n",
        "        msg_clear += code_mapping[pair]\n",
        "\n",
        "# Output the decoded msg\n",
        "print(f\"Decoded msg: {msg_clear}\")"
      ]
    },
    {
      "cell_type": "code",
      "execution_count": null,
      "metadata": {
        "id": "rzCYt7mwXIpD"
      },
      "outputs": [],
      "source": []
    }
  ],
  "metadata": {
    "kernelspec": {
      "display_name": "Python 3 (ipykernel)",
      "language": "python",
      "name": "python3"
    },
    "language_info": {
      "codemirror_mode": {
        "name": "ipython",
        "version": 3
      },
      "file_extension": ".py",
      "mimetype": "text/x-python",
      "name": "python",
      "nbconvert_exporter": "python",
      "pygments_lexer": "ipython3",
      "version": "3.12.4"
    },
    "colab": {
      "provenance": []
    }
  },
  "nbformat": 4,
  "nbformat_minor": 0
}